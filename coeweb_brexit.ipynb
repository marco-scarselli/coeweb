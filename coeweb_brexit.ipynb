{
 "cells": [
  {
   "cell_type": "code",
   "execution_count": 19,
   "metadata": {
    "collapsed": false
   },
   "outputs": [],
   "source": [
    "# -*- coding: cp1252 -*-\n",
    "\n",
    "\n",
    "from mechanize import Browser\n",
    "import os\n",
    "import pandas as pd\n",
    "import html5lib\n",
    "from bs4 import BeautifulSoup  \n",
    "\n",
    "\n",
    "#os.chdir(r\"E:\\Dropbox\\Dropbox\\0_DB\\A_Elaborazioni\\Coeweb\")\n",
    "\n",
    "class coeweb(object):\n",
    "    \n",
    "    def __init__(self, link):\n",
    "        self.pandas_db = pd.DataFrame()\n",
    "        self.link = link\n",
    "        br = Browser()\n",
    "        br.open(self.link)\n",
    "        br.select_form(nr=0)\n",
    "        \n",
    "        self.paesi = []\n",
    "        self.paesi_descizione = []\n",
    "        control = br.form.find_control(\"PAESE\")\n",
    "        if control.type == \"select\":  \n",
    "            for item in control.items:\n",
    "                self.paesi.append(item.name)\n",
    "                self.paesi_descizione.append((item.name, str([label.text  for label in item.get_labels()])))\n",
    "                \n",
    "        self.territori = []\n",
    "        self.territori_descrizione = []\n",
    "        control = br.form.find_control(\"CODTERRITORIO\")\n",
    "        if control.type == \"select\":  \n",
    "            for item in control.items:\n",
    "                self.territori.append((item.name, str([label.text  for label in item.get_labels()])))\n",
    "                self.territori_descrizione.append((item.name, str([label.text  for label in item.get_labels()])))\n",
    "                \n",
    "        self.anni = []\n",
    "        control = br.form.find_control(\"ANNO\")\n",
    "        if control.type == \"select\":  \n",
    "            for item in control.items:\n",
    "                self.anni.append((item.name, str([label.text  for label in item.get_labels()])))\n",
    "        self.mese = []\n",
    "        control = br.form.find_control(\"MESE\")\n",
    "        if control.type == \"select\": \n",
    "            for item in control.items:\n",
    "                self.mese.append((item.name, str([label.text  for label in item.get_labels()])))\n",
    "        self.cumulato = []\n",
    "        control = br.form.find_control(\"TIPOVALORE\")\n",
    "        for item in control.items:\n",
    "            self.cumulato.append((item.name, str([label.text  for label in item.get_labels()])))\n",
    "        \n",
    "        self.bric = ['508', '720', '664', '75']\n",
    "        #[('508', \"['508 - Brasile']\"), ('720', \"['720 - Cina']\"), ('664', \"['664 - India']\"), ('75', \"['75 - Russia']\")]\n",
    "    \n",
    "    def convert_string_euro(self,x):\n",
    "        '''questa funzione rimuove la formattazione dei numeri di coeweb, trasformando il testo in numeri'''\n",
    "        try: \n",
    "            return float(x.replace(\".\", \"\"))\n",
    "        except:\n",
    "            pass\n",
    "    \n",
    "\n",
    "    def scarica_uno(self, territorio = [\"309048\"], paese = [\"1033\"], cumulato = ['M'], anno = [\"2013\"], mese = [\"4\"]  ):# , paese, anno, trimestre, modalita)\n",
    "        \n",
    "        br = Browser()\n",
    "        br.open(self.link)\n",
    "\n",
    "        br.select_form(nr=0)\n",
    "\n",
    "        control_territorio = br.form.find_control(\"CODTERRITORIO\")\n",
    "        br[control_territorio.name] = territorio #[\"309048\"]\n",
    "\n",
    "        control_paese = br.form.find_control(\"PAESE\")\n",
    "        br[control_paese.name] = paese #[\"309048\"]\n",
    "\n",
    "        control_anno = br.form.find_control(\"ANNO\")\n",
    "        br[control_anno.name] = anno #[\"309048\"]\n",
    "\n",
    "        control_mese = br.form.find_control(\"MESE\")\n",
    "        br[control_mese.name] = mese #[\"309048\"]\n",
    "\n",
    "        control_cumulato = br.form.find_control(\"TIPOVALORE\")\n",
    "        br[control_cumulato.name] = cumulato #[\"309048\"]\n",
    "\n",
    "        nome_stringa = territorio[0] + \"_\" + paese[0] + \"_\" + anno[0] + \"_\" + mese[0] + \"_\" + cumulato[0]\n",
    "\n",
    "\n",
    "        response = br.submit()\n",
    "        out_file = open(os.path.join(os.getcwd(), \"scaricati\", nome_stringa +\".html\"), \"w\")\n",
    "        out_file.write(response.read()) \n",
    "        out_file.close()\n",
    "        #os.system(\"start \" + nome_stringa +\".html\")\n",
    "        self.dati = pd.read_html(os.path.join(os.getcwd(), \"scaricati\", nome_stringa +\".html\"), header= 0, index_col=0, encoding = \"cp1252\")#'utf8'\n",
    "        #os.remove(territorio[0] +\".html\")\n",
    "        print \"download_\" + nome_stringa\n",
    "        br.close()\n",
    "        return self.dati\n",
    "        \n",
    "        # i dati dovrebbero essere raccolti in un pandas \n",
    "        \n",
    "    def scarica_molti(self, territorio = [\"309048\"],   lista_paesi = None, lista_anni = None, lista_mesi = None, lista_cumulato = [\"M\"]):\n",
    "        ''' questa funzione permette di scaricare per uno o più territori uno o più settori, per uno o più periodi di tempo'''\n",
    "        #self.pandas_db = pd.DataFrame()\n",
    "        \n",
    "        def nome_paese(dati, codice):\n",
    "            for item in dati:\n",
    "                if item[0] == codice:\n",
    "                    pulito1= item[1].split(\"'\",)[1]\n",
    "                    pulito2 = pulito1.split(\" - \",)[1]\n",
    "                    print pulito2\n",
    "                    return pulito2\n",
    "        \n",
    "        def nome_territorio(dati, codice):\n",
    "            for item in dati:\n",
    "                if item[0] == codice:\n",
    "                    try:\n",
    "                        pulito1= item[1].split(\"'\")[1]\n",
    "                        pulito1 = pulito1.replace(\"-\",\"\")\n",
    "                        pulito1 = pulito1.replace(\"'\",\"\")\n",
    "                        return pulito1\n",
    "                    except:\n",
    "                        pass\n",
    "        \n",
    "        \n",
    "        for item_territori in territorio:\n",
    "            for item_paesi in lista_paesi:\n",
    "                for item_anni in lista_anni:\n",
    "                    for item_mesi in lista_mesi:\n",
    "\n",
    "                        dataset =  self.scarica_uno([item_territori], paese = [str(item_paesi)],  anno = [str(item_anni)], mese = [str(item_mesi)], cumulato = lista_cumulato)\n",
    "                        dataset = dataset[1]#.set_index(territorio, str(item_paesi), str(item_anni), str(item_mesi)])\n",
    "                        \n",
    "                        \n",
    "                        dataset[\"territorio\"] = nome_territorio(self.territori_descrizione,  item_territori)  \n",
    "                        #dataset[\"territorio\"] = item_territori\n",
    "                        \n",
    "                        #nome_paese(self.paesi_descizione, str(item_paesi))\n",
    "                        dataset[\"paese\"] = nome_paese(self.paesi_descizione, str(item_paesi))\n",
    "                        dataset[\"anno\"] = str(item_anni)\n",
    "                        dataset[\"mese\"] = str(item_mesi)\n",
    "                        dataset[\"cumulato\"] = lista_cumulato[0]\n",
    "                        dataset.set_index([\"territorio\",\"paese\",\"anno\",\"mese\",\"cumulato\"], append = True, inplace = True)\n",
    "                        dataset[\"DATI EXPORT\"] = dataset[\"EXP\" + str(item_anni)]\n",
    "                          \n",
    "                        \n",
    "                        \n",
    "                        dataset = dataset[\"DATI EXPORT\"].apply(lambda x: self.convert_string_euro(x))\n",
    "                        \n",
    "                        \n",
    "                        \n",
    "                        # datasetcompleto\n",
    "                        self.pandas_db = pd.concat([self.pandas_db, pd.DataFrame(dataset)])\n",
    "                        # settori ateco disponibili\n",
    "                        self.pandas_db.settori = set(self.pandas_db.reset_index()[\"Divisioni\"])\n",
    "                        \n",
    "                            #print \"errore_\" + territorio[0] + \"_\" + str(item_paesi) + \"_\" + str(item_anni) + \"_\" + str(item_mesi) + \"_\" + lista_cumulato[0]\n",
    "\n",
    "        for scaricato in os.listdir(os.path.join(os.getcwd(), \"scaricati\")):\n",
    "            os.remove(os.path.join(os.getcwd(), \"scaricati\", scaricato))\n",
    "        \n",
    "\n",
    "        print \"eseguito\"\n",
    "    \n",
    "    \n",
    "    \n",
    "    def analizza_settori(self, settori, interpolazione = \"no\"):\n",
    "        ''' questa funzione restituisce un dataframe e un dizionario contenente le serie storiche per i settori inseriti come argomento [lista]. \n",
    "        Effettua anche l'interpolazione dei dati mancanti'''\n",
    "        self.dict_settore = {}\n",
    "        for item in settori:\n",
    "            dati_settore = self.pandas_db.xs(item, level=0)\n",
    "            if interpolazione == \"yes\":\n",
    "                dati_settore[\"DATI EXPORT\"] = dati_settore[\"DATI EXPORT\"].apply(lambda x: convert_string_euro(x)).interpolate()\n",
    "            else:\n",
    "                dati_settore[\"DATI EXPORT\"] = dati_settore[\"DATI EXPORT\"].apply(lambda x: convert_string_euro(x))\n",
    "            self.dict_settore[item] = dati_settore[\"DATI EXPORT\"]\n",
    "        self.dataframe_settori = pd.DataFrame(self.dict_settore)\n",
    "        return self.dataframe_settori"
   ]
  },
  {
   "cell_type": "code",
   "execution_count": 20,
   "metadata": {
    "collapsed": false
   },
   "outputs": [],
   "source": [
    "def convert_string_euro(x):\n",
    "    try: \n",
    "        return float(x.replace(\".\", \"\"))\n",
    "    except:\n",
    "        pass"
   ]
  },
  {
   "cell_type": "code",
   "execution_count": null,
   "metadata": {
    "collapsed": false
   },
   "outputs": [],
   "source": []
  },
  {
   "cell_type": "code",
   "execution_count": 21,
   "metadata": {
    "collapsed": false
   },
   "outputs": [
    {
     "data": {
      "text/plain": [
       "'e:\\\\Dropbox\\\\Dropbox\\\\0_DB\\\\coeweb'"
      ]
     },
     "execution_count": 21,
     "metadata": {},
     "output_type": "execute_result"
    }
   ],
   "source": [
    "os.getcwd()"
   ]
  },
  {
   "cell_type": "code",
   "execution_count": 22,
   "metadata": {
    "collapsed": false
   },
   "outputs": [],
   "source": [
    "\n",
    "lista_anni = [str(i) for i in range(2009,2016)]\n"
   ]
  },
  {
   "cell_type": "code",
   "execution_count": 23,
   "metadata": {
    "collapsed": false
   },
   "outputs": [],
   "source": [
    "Firenze = coeweb(\"http://www.coeweb.istat.it/predefinite/tutto_paese_merce.asp?livello=ATE07_AT2&riga=MERCE&territorio=S&AG=S\")"
   ]
  },
  {
   "cell_type": "code",
   "execution_count": null,
   "metadata": {
    "collapsed": false
   },
   "outputs": [],
   "source": []
  },
  {
   "cell_type": "code",
   "execution_count": 24,
   "metadata": {
    "collapsed": true
   },
   "outputs": [],
   "source": [
    "metropolitana = [('309', \"['---Toscana']\"),\n",
    " ('309047', \"['------Pistoia']\"),\n",
    " ('309048', \"['------Firenze']\"),\n",
    " ('309100', \"['------Prato']\")]"
   ]
  },
  {
   "cell_type": "code",
   "execution_count": 25,
   "metadata": {
    "collapsed": false
   },
   "outputs": [],
   "source": [
    "CodiciMetropolitana = []\n",
    "for item in metropolitana:\n",
    "    CodiciMetropolitana.append(item[0])"
   ]
  },
  {
   "cell_type": "code",
   "execution_count": 26,
   "metadata": {
    "collapsed": false
   },
   "outputs": [
    {
     "name": "stdout",
     "output_type": "stream",
     "text": [
      "download_309_6_2009_9_C\n",
      "Regno Unito\n",
      "download_309_6_2010_9_C\n",
      "Regno Unito\n",
      "download_309_6_2011_9_C\n",
      "Regno Unito\n",
      "download_309_6_2012_9_C\n",
      "Regno Unito\n",
      "download_309_6_2013_9_C\n",
      "Regno Unito\n",
      "download_309_6_2014_9_C\n",
      "Regno Unito\n",
      "download_309_6_2015_9_C\n",
      "Regno Unito\n",
      "download_309047_6_2009_9_C\n",
      "Regno Unito\n",
      "download_309047_6_2010_9_C\n",
      "Regno Unito\n",
      "download_309047_6_2011_9_C\n",
      "Regno Unito\n",
      "download_309047_6_2012_9_C\n",
      "Regno Unito\n",
      "download_309047_6_2013_9_C\n",
      "Regno Unito\n",
      "download_309047_6_2014_9_C\n",
      "Regno Unito\n",
      "download_309047_6_2015_9_C\n",
      "Regno Unito\n",
      "download_309048_6_2009_9_C\n",
      "Regno Unito\n",
      "download_309048_6_2010_9_C\n",
      "Regno Unito\n",
      "download_309048_6_2011_9_C\n",
      "Regno Unito\n",
      "download_309048_6_2012_9_C\n",
      "Regno Unito\n",
      "download_309048_6_2013_9_C\n",
      "Regno Unito\n",
      "download_309048_6_2014_9_C\n",
      "Regno Unito\n",
      "download_309048_6_2015_9_C\n",
      "Regno Unito\n",
      "download_309100_6_2009_9_C\n",
      "Regno Unito\n",
      "download_309100_6_2010_9_C\n",
      "Regno Unito\n",
      "download_309100_6_2011_9_C\n",
      "Regno Unito\n",
      "download_309100_6_2012_9_C\n",
      "Regno Unito\n",
      "download_309100_6_2013_9_C\n",
      "Regno Unito\n",
      "download_309100_6_2014_9_C\n",
      "Regno Unito\n",
      "download_309100_6_2015_9_C\n",
      "Regno Unito\n",
      "eseguito\n"
     ]
    }
   ],
   "source": [
    "Firenze.scarica_molti(territorio = CodiciMetropolitana, lista_paesi = ['6'], lista_anni = lista_anni, lista_mesi = [\"9\"], lista_cumulato = ['C'])"
   ]
  },
  {
   "cell_type": "code",
   "execution_count": 27,
   "metadata": {
    "collapsed": false
   },
   "outputs": [],
   "source": [
    "dati_toscana_completi = Firenze.pandas_db"
   ]
  },
  {
   "cell_type": "code",
   "execution_count": 71,
   "metadata": {
    "collapsed": false
   },
   "outputs": [],
   "source": [
    "dati_toscana_completi = dati_toscana_completi.reset_index()"
   ]
  },
  {
   "cell_type": "code",
   "execution_count": 86,
   "metadata": {
    "collapsed": false
   },
   "outputs": [],
   "source": [
    "dati_toscana_completi[\"anno\"] = pd.to_datetime(dati_toscana_completi.anno, format=\"%Y\")"
   ]
  },
  {
   "cell_type": "code",
   "execution_count": 87,
   "metadata": {
    "collapsed": false
   },
   "outputs": [
    {
     "ename": "ValueError",
     "evalue": "labels ['paese' 'mese' 'cumulato'] not contained in axis",
     "output_type": "error",
     "traceback": [
      "\u001b[1;31m---------------------------------------------------------------------------\u001b[0m",
      "\u001b[1;31mValueError\u001b[0m                                Traceback (most recent call last)",
      "\u001b[1;32m<ipython-input-87-162be82cd0c0>\u001b[0m in \u001b[0;36m<module>\u001b[1;34m()\u001b[0m\n\u001b[1;32m----> 1\u001b[1;33m \u001b[0mdati_toscana_completi\u001b[0m\u001b[1;33m.\u001b[0m\u001b[0mdrop\u001b[0m\u001b[1;33m(\u001b[0m\u001b[1;33m[\u001b[0m\u001b[1;34m\"paese\"\u001b[0m\u001b[1;33m,\u001b[0m \u001b[1;34m\"mese\"\u001b[0m\u001b[1;33m,\u001b[0m \u001b[1;34m\"cumulato\"\u001b[0m\u001b[1;33m]\u001b[0m\u001b[1;33m,\u001b[0m \u001b[0maxis\u001b[0m \u001b[1;33m=\u001b[0m \u001b[1;36m1\u001b[0m\u001b[1;33m,\u001b[0m \u001b[0minplace\u001b[0m \u001b[1;33m=\u001b[0m \u001b[0mTrue\u001b[0m\u001b[1;33m)\u001b[0m\u001b[1;33m\u001b[0m\u001b[0m\n\u001b[0m",
      "\u001b[1;32mc:\\Users\\SANTECH\\Anaconda\\lib\\site-packages\\pandas\\core\\generic.pyc\u001b[0m in \u001b[0;36mdrop\u001b[1;34m(self, labels, axis, level, inplace, errors)\u001b[0m\n\u001b[0;32m   1871\u001b[0m                 \u001b[0mnew_axis\u001b[0m \u001b[1;33m=\u001b[0m \u001b[0maxis\u001b[0m\u001b[1;33m.\u001b[0m\u001b[0mdrop\u001b[0m\u001b[1;33m(\u001b[0m\u001b[0mlabels\u001b[0m\u001b[1;33m,\u001b[0m \u001b[0mlevel\u001b[0m\u001b[1;33m=\u001b[0m\u001b[0mlevel\u001b[0m\u001b[1;33m,\u001b[0m \u001b[0merrors\u001b[0m\u001b[1;33m=\u001b[0m\u001b[0merrors\u001b[0m\u001b[1;33m)\u001b[0m\u001b[1;33m\u001b[0m\u001b[0m\n\u001b[0;32m   1872\u001b[0m             \u001b[1;32melse\u001b[0m\u001b[1;33m:\u001b[0m\u001b[1;33m\u001b[0m\u001b[0m\n\u001b[1;32m-> 1873\u001b[1;33m                 \u001b[0mnew_axis\u001b[0m \u001b[1;33m=\u001b[0m \u001b[0maxis\u001b[0m\u001b[1;33m.\u001b[0m\u001b[0mdrop\u001b[0m\u001b[1;33m(\u001b[0m\u001b[0mlabels\u001b[0m\u001b[1;33m,\u001b[0m \u001b[0merrors\u001b[0m\u001b[1;33m=\u001b[0m\u001b[0merrors\u001b[0m\u001b[1;33m)\u001b[0m\u001b[1;33m\u001b[0m\u001b[0m\n\u001b[0m\u001b[0;32m   1874\u001b[0m             \u001b[0mdropped\u001b[0m \u001b[1;33m=\u001b[0m \u001b[0mself\u001b[0m\u001b[1;33m.\u001b[0m\u001b[0mreindex\u001b[0m\u001b[1;33m(\u001b[0m\u001b[1;33m**\u001b[0m\u001b[1;33m{\u001b[0m\u001b[0maxis_name\u001b[0m\u001b[1;33m:\u001b[0m \u001b[0mnew_axis\u001b[0m\u001b[1;33m}\u001b[0m\u001b[1;33m)\u001b[0m\u001b[1;33m\u001b[0m\u001b[0m\n\u001b[0;32m   1875\u001b[0m             \u001b[1;32mtry\u001b[0m\u001b[1;33m:\u001b[0m\u001b[1;33m\u001b[0m\u001b[0m\n",
      "\u001b[1;32mc:\\Users\\SANTECH\\Anaconda\\lib\\site-packages\\pandas\\indexes\\base.pyc\u001b[0m in \u001b[0;36mdrop\u001b[1;34m(self, labels, errors)\u001b[0m\n\u001b[0;32m   2964\u001b[0m             \u001b[1;32mif\u001b[0m \u001b[0merrors\u001b[0m \u001b[1;33m!=\u001b[0m \u001b[1;34m'ignore'\u001b[0m\u001b[1;33m:\u001b[0m\u001b[1;33m\u001b[0m\u001b[0m\n\u001b[0;32m   2965\u001b[0m                 raise ValueError('labels %s not contained in axis' %\n\u001b[1;32m-> 2966\u001b[1;33m                                  labels[mask])\n\u001b[0m\u001b[0;32m   2967\u001b[0m             \u001b[0mindexer\u001b[0m \u001b[1;33m=\u001b[0m \u001b[0mindexer\u001b[0m\u001b[1;33m[\u001b[0m\u001b[1;33m~\u001b[0m\u001b[0mmask\u001b[0m\u001b[1;33m]\u001b[0m\u001b[1;33m\u001b[0m\u001b[0m\n\u001b[0;32m   2968\u001b[0m         \u001b[1;32mreturn\u001b[0m \u001b[0mself\u001b[0m\u001b[1;33m.\u001b[0m\u001b[0mdelete\u001b[0m\u001b[1;33m(\u001b[0m\u001b[0mindexer\u001b[0m\u001b[1;33m)\u001b[0m\u001b[1;33m\u001b[0m\u001b[0m\n",
      "\u001b[1;31mValueError\u001b[0m: labels ['paese' 'mese' 'cumulato'] not contained in axis"
     ]
    }
   ],
   "source": [
    "dati_toscana_completi.drop([\"paese\", \"mese\", \"cumulato\"], axis = 1, inplace = True)"
   ]
  },
  {
   "cell_type": "code",
   "execution_count": 85,
   "metadata": {
    "collapsed": false
   },
   "outputs": [
    {
     "data": {
      "text/plain": [
       "0     2009-01-01\n",
       "1     2009-01-01\n",
       "2     2009-01-01\n",
       "3     2009-01-01\n",
       "4     2009-01-01\n",
       "5     2009-01-01\n",
       "6     2009-01-01\n",
       "7     2009-01-01\n",
       "8     2009-01-01\n",
       "9     2009-01-01\n",
       "10    2009-01-01\n",
       "11    2009-01-01\n",
       "12    2009-01-01\n",
       "13    2009-01-01\n",
       "14    2009-01-01\n",
       "15    2009-01-01\n",
       "16    2009-01-01\n",
       "17    2009-01-01\n",
       "18    2009-01-01\n",
       "19    2009-01-01\n",
       "20    2009-01-01\n",
       "21    2009-01-01\n",
       "22    2009-01-01\n",
       "23    2009-01-01\n",
       "24    2009-01-01\n",
       "25    2009-01-01\n",
       "26    2009-01-01\n",
       "27    2009-01-01\n",
       "28    2009-01-01\n",
       "29    2009-01-01\n",
       "         ...    \n",
       "941   2015-01-01\n",
       "942   2015-01-01\n",
       "943   2015-01-01\n",
       "944   2015-01-01\n",
       "945   2015-01-01\n",
       "946   2015-01-01\n",
       "947   2015-01-01\n",
       "948   2015-01-01\n",
       "949   2015-01-01\n",
       "950   2015-01-01\n",
       "951   2015-01-01\n",
       "952   2015-01-01\n",
       "953   2015-01-01\n",
       "954   2015-01-01\n",
       "955   2015-01-01\n",
       "956   2015-01-01\n",
       "957   2015-01-01\n",
       "958   2015-01-01\n",
       "959   2015-01-01\n",
       "960   2015-01-01\n",
       "961   2015-01-01\n",
       "962   2015-01-01\n",
       "963   2015-01-01\n",
       "964   2015-01-01\n",
       "965   2015-01-01\n",
       "966   2015-01-01\n",
       "967   2015-01-01\n",
       "968   2015-01-01\n",
       "969   2015-01-01\n",
       "970   2015-01-01\n",
       "Name: anno, dtype: datetime64[ns]"
      ]
     },
     "execution_count": 85,
     "metadata": {},
     "output_type": "execute_result"
    }
   ],
   "source": []
  },
  {
   "cell_type": "code",
   "execution_count": 88,
   "metadata": {
    "collapsed": false
   },
   "outputs": [],
   "source": [
    "dati_toscana_completi.to_excel(\"dati_metropolitana_completi.xlsx\")"
   ]
  },
  {
   "cell_type": "code",
   "execution_count": 29,
   "metadata": {
    "collapsed": false
   },
   "outputs": [
    {
     "data": {
      "text/plain": [
       "<__main__.coeweb at 0xad04ba8>"
      ]
     },
     "execution_count": 29,
     "metadata": {},
     "output_type": "execute_result"
    }
   ],
   "source": [
    "Firenze"
   ]
  },
  {
   "cell_type": "code",
   "execution_count": 34,
   "metadata": {
    "collapsed": false
   },
   "outputs": [],
   "source": [
    "serie_storica = dati_toscana_completi[dati_toscana_completi.index.get_level_values('Divisioni').isin(['Totale'])].unstack(\"anno\")"
   ]
  },
  {
   "cell_type": "code",
   "execution_count": 41,
   "metadata": {
    "collapsed": false
   },
   "outputs": [
    {
     "data": {
      "text/plain": [
       "Divisioni  territorio  paese        mese  cumulato\n",
       "Totale     Firenze     Regno Unito  9     C           5.816399e+08\n",
       "           Pistoia     Regno Unito  9     C           1.242330e+08\n",
       "           Prato       Regno Unito  9     C           1.427064e+08\n",
       "           Toscana     Regno Unito  9     C           1.802210e+09\n",
       "Name: 2015, dtype: float64"
      ]
     },
     "execution_count": 41,
     "metadata": {},
     "output_type": "execute_result"
    }
   ],
   "source": [
    "#[\"2015\"]"
   ]
  },
  {
   "cell_type": "code",
   "execution_count": 58,
   "metadata": {
    "collapsed": false
   },
   "outputs": [
    {
     "data": {
      "text/html": [
       "<div>\n",
       "<table border=\"1\" class=\"dataframe\">\n",
       "  <thead>\n",
       "    <tr style=\"text-align: right;\">\n",
       "      <th></th>\n",
       "      <th></th>\n",
       "      <th></th>\n",
       "      <th></th>\n",
       "      <th>anno</th>\n",
       "      <th>2009</th>\n",
       "      <th>2010</th>\n",
       "      <th>2011</th>\n",
       "      <th>2012</th>\n",
       "      <th>2013</th>\n",
       "      <th>2014</th>\n",
       "      <th>2015</th>\n",
       "    </tr>\n",
       "    <tr>\n",
       "      <th>Divisioni</th>\n",
       "      <th>territorio</th>\n",
       "      <th>paese</th>\n",
       "      <th>mese</th>\n",
       "      <th>cumulato</th>\n",
       "      <th></th>\n",
       "      <th></th>\n",
       "      <th></th>\n",
       "      <th></th>\n",
       "      <th></th>\n",
       "      <th></th>\n",
       "      <th></th>\n",
       "    </tr>\n",
       "  </thead>\n",
       "  <tbody>\n",
       "    <tr>\n",
       "      <th rowspan=\"4\" valign=\"top\">Totale</th>\n",
       "      <th>Firenze</th>\n",
       "      <th>Regno Unito</th>\n",
       "      <th>9</th>\n",
       "      <th>C</th>\n",
       "      <td>100.0</td>\n",
       "      <td>124.888999</td>\n",
       "      <td>115.685097</td>\n",
       "      <td>124.545145</td>\n",
       "      <td>176.578336</td>\n",
       "      <td>184.469509</td>\n",
       "      <td>200.457805</td>\n",
       "    </tr>\n",
       "    <tr>\n",
       "      <th>Pistoia</th>\n",
       "      <th>Regno Unito</th>\n",
       "      <th>9</th>\n",
       "      <th>C</th>\n",
       "      <td>100.0</td>\n",
       "      <td>117.163396</td>\n",
       "      <td>122.527492</td>\n",
       "      <td>114.321328</td>\n",
       "      <td>123.339313</td>\n",
       "      <td>129.887862</td>\n",
       "      <td>145.614288</td>\n",
       "    </tr>\n",
       "    <tr>\n",
       "      <th>Prato</th>\n",
       "      <th>Regno Unito</th>\n",
       "      <th>9</th>\n",
       "      <th>C</th>\n",
       "      <td>100.0</td>\n",
       "      <td>139.286136</td>\n",
       "      <td>132.357143</td>\n",
       "      <td>110.313583</td>\n",
       "      <td>114.053888</td>\n",
       "      <td>135.769640</td>\n",
       "      <td>173.755019</td>\n",
       "    </tr>\n",
       "    <tr>\n",
       "      <th>Toscana</th>\n",
       "      <th>Regno Unito</th>\n",
       "      <th>9</th>\n",
       "      <th>C</th>\n",
       "      <td>100.0</td>\n",
       "      <td>96.364468</td>\n",
       "      <td>99.402493</td>\n",
       "      <td>97.228852</td>\n",
       "      <td>105.662722</td>\n",
       "      <td>110.345702</td>\n",
       "      <td>117.888034</td>\n",
       "    </tr>\n",
       "  </tbody>\n",
       "</table>\n",
       "</div>"
      ],
      "text/plain": [
       "anno                                             2009        2010        2011  \\\n",
       "Divisioni territorio paese       mese cumulato                                  \n",
       "Totale    Firenze    Regno Unito 9    C         100.0  124.888999  115.685097   \n",
       "          Pistoia    Regno Unito 9    C         100.0  117.163396  122.527492   \n",
       "          Prato      Regno Unito 9    C         100.0  139.286136  132.357143   \n",
       "          Toscana    Regno Unito 9    C         100.0   96.364468   99.402493   \n",
       "\n",
       "anno                                                  2012        2013  \\\n",
       "Divisioni territorio paese       mese cumulato                           \n",
       "Totale    Firenze    Regno Unito 9    C         124.545145  176.578336   \n",
       "          Pistoia    Regno Unito 9    C         114.321328  123.339313   \n",
       "          Prato      Regno Unito 9    C         110.313583  114.053888   \n",
       "          Toscana    Regno Unito 9    C          97.228852  105.662722   \n",
       "\n",
       "anno                                                  2014        2015  \n",
       "Divisioni territorio paese       mese cumulato                          \n",
       "Totale    Firenze    Regno Unito 9    C         184.469509  200.457805  \n",
       "          Pistoia    Regno Unito 9    C         129.887862  145.614288  \n",
       "          Prato      Regno Unito 9    C         135.769640  173.755019  \n",
       "          Toscana    Regno Unito 9    C         110.345702  117.888034  "
      ]
     },
     "execution_count": 58,
     "metadata": {},
     "output_type": "execute_result"
    }
   ],
   "source": [
    "%matplotlib inline\n",
    "\n",
    "serie_storica[\"DATI EXPORT\"].divide(serie_storica[\"DATI EXPORT\"][\"2009\"], axis = 0) * 100"
   ]
  },
  {
   "cell_type": "code",
   "execution_count": null,
   "metadata": {
    "collapsed": true
   },
   "outputs": [],
   "source": []
  }
 ],
 "metadata": {
  "kernelspec": {
   "display_name": "Python 2",
   "language": "python",
   "name": "python2"
  },
  "language_info": {
   "codemirror_mode": {
    "name": "ipython",
    "version": 2
   },
   "file_extension": ".py",
   "mimetype": "text/x-python",
   "name": "python",
   "nbconvert_exporter": "python",
   "pygments_lexer": "ipython2",
   "version": "2.7.11"
  }
 },
 "nbformat": 4,
 "nbformat_minor": 0
}
